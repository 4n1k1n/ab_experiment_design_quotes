{
 "cells": [
  {
   "cell_type": "markdown",
   "id": "6466b616-d7f2-4d2d-8f76-54ff44f79575",
   "metadata": {},
   "source": [
    "# Кейс\n",
    "\n",
    "Вы пришли на позицию Senior продуктового аналитика в стартап. Кроме вас в команде еще 2 middle и 1 junior аналитик. Стартап – мобильное приложении с ежедневными мотивирующими цитатами. Приложение имеет бесплатный доступ, полноценно работает по подписке, а также у него есть внутренние разовые покупки. После онбординга, в качестве одной из первых задач, вас попросили подвести итоги по АБ эксперименту. Вы решаете провести эксперимент как будто бы “с нуля”, чтобы перепроверить все важные аспекты. В этом вам поможет чек-лист АБ экспериментов.\n",
    "\n",
    "**В рамках задания необходимо** провести полный цикл АБ-эксперимента на основе данных результата АБ-теста – paymentChange. Его проводили на новых пользователях сплитом 50/50. Эксперимент заключался в снижении стоимости подписки с 400 до 160 у.е.\n",
    "\n",
    "**В частности:**    \n",
    "1. Сформировать бизнес требования к эксперименту;\n",
    "2. Задизайнить АБ-тест. За основу предлагается взять данные только контрольной группы, не подсматривая данные тестовой группы;\n",
    "3. Проанализировать и интерпретировать результаты;\n",
    "4. Дать рекомендации по дальнейшим шагам;\n",
    "5. Результаты представить в формате Google Slides. К презентации приложить Google Colab с исходным кодом анализа."
   ]
  },
  {
   "cell_type": "markdown",
   "id": "c331f4c5-5ad2-415c-9248-399e17cb1f12",
   "metadata": {},
   "source": [
    "## 1. Бизнес-аспекты эксперимента\n",
    "\n",
    "1. Проблематика: у нас слишком высокая стоимость подписки, что снижает вовлеченность пользователей. Снизив ее мы охватим бОльшую долю пользователей готовых платить. Так как планируем значительно снизить стоимость подписки (в 2.5 раза), то также ожидаем, что пользователи с подпиской чаще будут осуществлять разовые покупки, так как более полноценно пользуются нашим продуктом. В совокупности это позволит увеличить ARPU.\n",
    "2. Гипотеза: Если снизить стоимость подписки с 400 до 160 для новых пользователей, то ARPU увеличится на 4,8%, потому что большее количество пользователей смогут позволить себе подписку и будут вовлечены в продукт для осуществления разовых покупок.\n",
    "3. Масштаб и направление изменения метрики: ARPU увеличится на 4,8%\n",
    "4. Экономическая целесообразность: Возможно рассчитать экономическую целесообразность, используя данные о затратах на реализацию, проведение эксперимента и ожидаемый эффект от изменения.\n",
    "5. Понимание, что нужен АБ: АБ явно нужен, учитывая тот факт, что вводится изменение связанное напрямую со стоимостью подписки, есть риски снизить выручку.\n",
    "6. Возможен сетевой эффект, если пользователи из контроля узнаю о том, что некоторым предлагается подписка в 2,5 раза дешевле, то они могут не оформить ее за 400 и постараться найти способ оформить дешевле. Тут еще зависит от того насколько быстро развивается наш стартап, т.к. если он мало известен, то возможно эффект будет незначителен.\n",
    "7. Критерий успеха: увеличение ARPU на 4,8%\n",
    "8. Action plan:\n",
    "- В случае успеха: вводим новую стоимость подписки на всех пользователей, если ввести только для новых, то старые начнуть заводить новые аккаунты для снижения стоимости.\n",
    "- В случае неудачи / отсутствии эффекта: пересматриваем ценовую политику на меньшее снижение стоимости, возможно кол-во желающих оформить подписку особо не снизиться при этом общая выручка вырастет."
   ]
  },
  {
   "cell_type": "markdown",
   "id": "269361a0-f95f-45fe-ab47-f326eeb9817d",
   "metadata": {},
   "source": [
    "## 2. Дизайн эксперимента:\n",
    "1. Способ формирования выборки: по пользователям на слой с оплатой.\n",
    "2. Вероятность пересечения с другими экспериментами: если в текущий момент у нас проводится всего 2 эксперимента actionChange и paymentChange, то необходим поделить пользователей, чтобы исключить влияние actionChange на наш эксперимент.\n",
    "4. Сегмент: все новые пользователи.\n",
    "5. Ключевая метрика: ARPU.\n",
    "6. Заградительные метрики: Конверсия в разовую покупку (можно взять в подписку, однако, снижая стоимость подписки, больше пользователей смогут себе позволить ее, при этом стоимость разовой покупки не меняется, если она просядет, есть вероятность, что ARPU значительно упадет).\n",
    "7. Информационные метрики: Конверсии в фичи, две из которые имеют слабую корреляцию в разовую покупку.\n",
    "8. Статистический критерий для основной метрики ARPU - t-тест (метрика непрерывная), для заградительной - Конверсия в разовую покупку - хи-квадрат.\n",
    "9. Разделение: 50/50.\n",
    "10. alpha = 0.05, beta = 0.2. MDE: APRU = 4,8% (размер групп по 10977 пользователей), CR в покупку = 2% (абс.) (размер групп по 9059 пользователей).\n",
    "11. Длительность эксперимента: 2248 в среднем новых пользователей в сутки, чтобы набрать выборку в 10977 потребуется 5 дней, для сохранения сезонности возьмем 7 дней, исходя из длительности ожидаем 17501 пользователя.\n",
    "13. Action plan:\n",
    "- В случае успеха: вводим новую стоимость подписки на всех пользователей, если ввести только для новых, то старые начнуть заводить новые аккаунты для снижения стоимости.\n",
    "- При просадке CR в разовую покупку: остановка эксперимента, пересмотр снижения CR в разовую покупку + тоже что \"При отсутствии эффекта\"\n",
    "- При отсутствии эффекта: пересматриваем ценовую политику на меньшее снижение стоимости, возможно кол-во желающих оформить подписку особо не снизиться при этом общая выручка вырастет."
   ]
  },
  {
   "cell_type": "code",
   "execution_count": 1,
   "id": "7129b4cd-5b09-4dd7-91d2-2946a42c1db6",
   "metadata": {},
   "outputs": [],
   "source": [
    "import uuid\n",
    "import hashlib\n",
    "import pandas as pd\n",
    "import numpy as np\n",
    "\n",
    "import matplotlib.pyplot as plt\n",
    "import seaborn as sns\n",
    "from tqdm import tqdm\n",
    "from datetime import datetime, timedelta\n",
    "\n",
    "import scipy.stats as stats\n",
    "from sklearn import preprocessing\n",
    "\n",
    "# ttest_ind, mannwhitneyu, chi2_contingency, normaltest, shapiro, kstest, bernoulli, expon, norm, probplot\n",
    "from scipy.stats import ttest_ind, kstest, bernoulli, mannwhitneyu, chi2_contingency, norm\n",
    "from statsmodels.stats.proportion import proportions_chisquare, proportion_effectsize\n",
    "from statsmodels.stats.power import tt_ind_solve_power, NormalIndPower\n",
    "import math"
   ]
  },
  {
   "cell_type": "markdown",
   "id": "a95f2227-55b7-4b4e-a7aa-08de15820716",
   "metadata": {},
   "source": [
    "## EDA"
   ]
  },
  {
   "cell_type": "markdown",
   "id": "bf454750-6e38-4387-b411-e92c867e1502",
   "metadata": {},
   "source": [
    "### Считываем данные"
   ]
  },
  {
   "cell_type": "code",
   "execution_count": 2,
   "id": "1cd4937a-b215-462b-9add-131d1a42d6fe",
   "metadata": {},
   "outputs": [],
   "source": [
    "action = pd.read_csv('Action.csv')"
   ]
  },
  {
   "cell_type": "code",
   "execution_count": 3,
   "id": "f51497fb-2cfa-4bcc-8917-92b5c1fa5fc7",
   "metadata": {},
   "outputs": [
    {
     "data": {
      "text/html": [
       "<div>\n",
       "<style scoped>\n",
       "    .dataframe tbody tr th:only-of-type {\n",
       "        vertical-align: middle;\n",
       "    }\n",
       "\n",
       "    .dataframe tbody tr th {\n",
       "        vertical-align: top;\n",
       "    }\n",
       "\n",
       "    .dataframe thead th {\n",
       "        text-align: right;\n",
       "    }\n",
       "</style>\n",
       "<table border=\"1\" class=\"dataframe\">\n",
       "  <thead>\n",
       "    <tr style=\"text-align: right;\">\n",
       "      <th></th>\n",
       "      <th>uid</th>\n",
       "      <th>Ts</th>\n",
       "      <th>Action</th>\n",
       "    </tr>\n",
       "  </thead>\n",
       "  <tbody>\n",
       "    <tr>\n",
       "      <th>0</th>\n",
       "      <td>cfjqq</td>\n",
       "      <td>2020-01-16 09:24:32</td>\n",
       "      <td>firstOpen</td>\n",
       "    </tr>\n",
       "    <tr>\n",
       "      <th>1</th>\n",
       "      <td>cfjqq</td>\n",
       "      <td>2020-01-16 15:39:41</td>\n",
       "      <td>function2</td>\n",
       "    </tr>\n",
       "    <tr>\n",
       "      <th>2</th>\n",
       "      <td>cfjqq</td>\n",
       "      <td>2020-01-16 15:58:21</td>\n",
       "      <td>function4</td>\n",
       "    </tr>\n",
       "    <tr>\n",
       "      <th>3</th>\n",
       "      <td>hclau</td>\n",
       "      <td>2020-01-10 22:54:42</td>\n",
       "      <td>firstOpen</td>\n",
       "    </tr>\n",
       "    <tr>\n",
       "      <th>4</th>\n",
       "      <td>hclau</td>\n",
       "      <td>2020-01-11 01:19:03</td>\n",
       "      <td>function1</td>\n",
       "    </tr>\n",
       "  </tbody>\n",
       "</table>\n",
       "</div>"
      ],
      "text/plain": [
       "     uid                   Ts     Action\n",
       "0  cfjqq  2020-01-16 09:24:32  firstOpen\n",
       "1  cfjqq  2020-01-16 15:39:41  function2\n",
       "2  cfjqq  2020-01-16 15:58:21  function4\n",
       "3  hclau  2020-01-10 22:54:42  firstOpen\n",
       "4  hclau  2020-01-11 01:19:03  function1"
      ]
     },
     "execution_count": 3,
     "metadata": {},
     "output_type": "execute_result"
    }
   ],
   "source": [
    "action.head()"
   ]
  },
  {
   "cell_type": "code",
   "execution_count": 4,
   "id": "68324e8b-c81a-4eef-8092-cc7022cc4cc0",
   "metadata": {},
   "outputs": [
    {
     "data": {
      "text/plain": [
       "(185189, 3)"
      ]
     },
     "execution_count": 4,
     "metadata": {},
     "output_type": "execute_result"
    }
   ],
   "source": [
    "action.shape"
   ]
  },
  {
   "cell_type": "code",
   "execution_count": 5,
   "id": "dc6a9f69-d2c5-4022-8dc4-cffca47d0978",
   "metadata": {},
   "outputs": [
    {
     "data": {
      "text/plain": [
       "uid       object\n",
       "Ts        object\n",
       "Action    object\n",
       "dtype: object"
      ]
     },
     "execution_count": 5,
     "metadata": {},
     "output_type": "execute_result"
    }
   ],
   "source": [
    "action.dtypes"
   ]
  },
  {
   "cell_type": "code",
   "execution_count": 6,
   "id": "7702d3da-9e68-445c-bccd-d5b9aa1582c8",
   "metadata": {},
   "outputs": [
    {
     "data": {
      "text/plain": [
       "uid       0\n",
       "Ts        0\n",
       "Action    0\n",
       "dtype: int64"
      ]
     },
     "execution_count": 6,
     "metadata": {},
     "output_type": "execute_result"
    }
   ],
   "source": [
    "action.isna().sum()"
   ]
  },
  {
   "cell_type": "code",
   "execution_count": 7,
   "id": "38a5c5e9-6080-4805-8f55-7d5f13323f86",
   "metadata": {},
   "outputs": [
    {
     "data": {
      "text/plain": [
       "array(['firstOpen', 'function2', 'function4', 'function1', 'function3'],\n",
       "      dtype=object)"
      ]
     },
     "execution_count": 7,
     "metadata": {},
     "output_type": "execute_result"
    }
   ],
   "source": [
    "action['Action'].unique()"
   ]
  },
  {
   "cell_type": "code",
   "execution_count": null,
   "id": "e0d111cc-2c4e-4157-b735-cbb8d7d994d7",
   "metadata": {},
   "outputs": [],
   "source": []
  },
  {
   "cell_type": "code",
   "execution_count": 8,
   "id": "b412c923-afc6-4cbc-b928-3fcf0aeb6b8e",
   "metadata": {},
   "outputs": [
    {
     "data": {
      "text/html": [
       "<div>\n",
       "<style scoped>\n",
       "    .dataframe tbody tr th:only-of-type {\n",
       "        vertical-align: middle;\n",
       "    }\n",
       "\n",
       "    .dataframe tbody tr th {\n",
       "        vertical-align: top;\n",
       "    }\n",
       "\n",
       "    .dataframe thead th {\n",
       "        text-align: right;\n",
       "    }\n",
       "</style>\n",
       "<table border=\"1\" class=\"dataframe\">\n",
       "  <thead>\n",
       "    <tr style=\"text-align: right;\">\n",
       "      <th></th>\n",
       "      <th>uid</th>\n",
       "      <th>paymentType</th>\n",
       "      <th>Payment</th>\n",
       "    </tr>\n",
       "  </thead>\n",
       "  <tbody>\n",
       "    <tr>\n",
       "      <th>0</th>\n",
       "      <td>hclau</td>\n",
       "      <td>type1</td>\n",
       "      <td>400</td>\n",
       "    </tr>\n",
       "    <tr>\n",
       "      <th>1</th>\n",
       "      <td>hclau</td>\n",
       "      <td>type2</td>\n",
       "      <td>200</td>\n",
       "    </tr>\n",
       "    <tr>\n",
       "      <th>2</th>\n",
       "      <td>bkhtq</td>\n",
       "      <td>type2</td>\n",
       "      <td>200</td>\n",
       "    </tr>\n",
       "    <tr>\n",
       "      <th>3</th>\n",
       "      <td>rxxdh</td>\n",
       "      <td>type2</td>\n",
       "      <td>200</td>\n",
       "    </tr>\n",
       "    <tr>\n",
       "      <th>4</th>\n",
       "      <td>qxjhx</td>\n",
       "      <td>type1</td>\n",
       "      <td>400</td>\n",
       "    </tr>\n",
       "  </tbody>\n",
       "</table>\n",
       "</div>"
      ],
      "text/plain": [
       "     uid paymentType  Payment\n",
       "0  hclau       type1      400\n",
       "1  hclau       type2      200\n",
       "2  bkhtq       type2      200\n",
       "3  rxxdh       type2      200\n",
       "4  qxjhx       type1      400"
      ]
     },
     "execution_count": 8,
     "metadata": {},
     "output_type": "execute_result"
    }
   ],
   "source": [
    "pays = pd.read_csv('Payment.csv')\n",
    "pays.head()"
   ]
  },
  {
   "cell_type": "code",
   "execution_count": 9,
   "id": "bd93631e-e058-4db2-9c62-0005545c4a23",
   "metadata": {},
   "outputs": [
    {
     "data": {
      "text/plain": [
       "(36058, 3)"
      ]
     },
     "execution_count": 9,
     "metadata": {},
     "output_type": "execute_result"
    }
   ],
   "source": [
    "pays.shape"
   ]
  },
  {
   "cell_type": "code",
   "execution_count": 10,
   "id": "f9eba0f8-51e6-42c8-a321-2c3e17b9f47c",
   "metadata": {},
   "outputs": [
    {
     "data": {
      "text/plain": [
       "uid            0\n",
       "paymentType    0\n",
       "Payment        0\n",
       "dtype: int64"
      ]
     },
     "execution_count": 10,
     "metadata": {},
     "output_type": "execute_result"
    }
   ],
   "source": [
    "pays.isna().sum()"
   ]
  },
  {
   "cell_type": "code",
   "execution_count": 11,
   "id": "c487e1ba-b6a0-4498-9b4f-81534ed16775",
   "metadata": {},
   "outputs": [
    {
     "data": {
      "text/plain": [
       "array(['type1', 'type2'], dtype=object)"
      ]
     },
     "execution_count": 11,
     "metadata": {},
     "output_type": "execute_result"
    }
   ],
   "source": [
    "pays['paymentType'].unique()"
   ]
  },
  {
   "cell_type": "code",
   "execution_count": 12,
   "id": "f9b07b6f-7e8b-401d-90aa-53bf8b0d09eb",
   "metadata": {},
   "outputs": [
    {
     "data": {
      "text/plain": [
       "array([400, 200, 160], dtype=int64)"
      ]
     },
     "execution_count": 12,
     "metadata": {},
     "output_type": "execute_result"
    }
   ],
   "source": [
    "pays['Payment'].unique()"
   ]
  },
  {
   "cell_type": "code",
   "execution_count": null,
   "id": "42d66bde-9946-4c34-8807-62e7d68ba20f",
   "metadata": {},
   "outputs": [],
   "source": []
  },
  {
   "cell_type": "code",
   "execution_count": 13,
   "id": "61e1ff6b-346d-4ae4-a87c-9b8018042e44",
   "metadata": {},
   "outputs": [],
   "source": [
    "exps = pd.read_csv('Experiments.csv')"
   ]
  },
  {
   "cell_type": "code",
   "execution_count": 14,
   "id": "2dec7382-89fb-46e0-bccc-6e7898a6b55c",
   "metadata": {},
   "outputs": [
    {
     "data": {
      "text/html": [
       "<div>\n",
       "<style scoped>\n",
       "    .dataframe tbody tr th:only-of-type {\n",
       "        vertical-align: middle;\n",
       "    }\n",
       "\n",
       "    .dataframe tbody tr th {\n",
       "        vertical-align: top;\n",
       "    }\n",
       "\n",
       "    .dataframe thead th {\n",
       "        text-align: right;\n",
       "    }\n",
       "</style>\n",
       "<table border=\"1\" class=\"dataframe\">\n",
       "  <thead>\n",
       "    <tr style=\"text-align: right;\">\n",
       "      <th></th>\n",
       "      <th>Experiment</th>\n",
       "      <th>Group</th>\n",
       "      <th>uid</th>\n",
       "    </tr>\n",
       "  </thead>\n",
       "  <tbody>\n",
       "    <tr>\n",
       "      <th>0</th>\n",
       "      <td>actionChange</td>\n",
       "      <td>Old</td>\n",
       "      <td>cfjqq</td>\n",
       "    </tr>\n",
       "    <tr>\n",
       "      <th>1</th>\n",
       "      <td>actionChange</td>\n",
       "      <td>Old</td>\n",
       "      <td>hclau</td>\n",
       "    </tr>\n",
       "    <tr>\n",
       "      <th>2</th>\n",
       "      <td>actionChange</td>\n",
       "      <td>Old</td>\n",
       "      <td>bkhtq</td>\n",
       "    </tr>\n",
       "    <tr>\n",
       "      <th>3</th>\n",
       "      <td>actionChange</td>\n",
       "      <td>Old</td>\n",
       "      <td>rxxdh</td>\n",
       "    </tr>\n",
       "    <tr>\n",
       "      <th>4</th>\n",
       "      <td>actionChange</td>\n",
       "      <td>Old</td>\n",
       "      <td>ccsko</td>\n",
       "    </tr>\n",
       "  </tbody>\n",
       "</table>\n",
       "</div>"
      ],
      "text/plain": [
       "     Experiment Group    uid\n",
       "0  actionChange   Old  cfjqq\n",
       "1  actionChange   Old  hclau\n",
       "2  actionChange   Old  bkhtq\n",
       "3  actionChange   Old  rxxdh\n",
       "4  actionChange   Old  ccsko"
      ]
     },
     "execution_count": 14,
     "metadata": {},
     "output_type": "execute_result"
    }
   ],
   "source": [
    "exps.head()"
   ]
  },
  {
   "cell_type": "code",
   "execution_count": 15,
   "id": "c8c4fbf4-725c-4ffd-b517-8eb28246a5f8",
   "metadata": {},
   "outputs": [
    {
     "data": {
      "text/plain": [
       "(100002, 3)"
      ]
     },
     "execution_count": 15,
     "metadata": {},
     "output_type": "execute_result"
    }
   ],
   "source": [
    "exps.shape"
   ]
  },
  {
   "cell_type": "code",
   "execution_count": 16,
   "id": "beb1afc5-afa4-474a-bd89-0ce7d9672295",
   "metadata": {},
   "outputs": [
    {
     "data": {
      "text/plain": [
       "Experiment    0\n",
       "Group         0\n",
       "uid           0\n",
       "dtype: int64"
      ]
     },
     "execution_count": 16,
     "metadata": {},
     "output_type": "execute_result"
    }
   ],
   "source": [
    "exps.isna().sum()"
   ]
  },
  {
   "cell_type": "code",
   "execution_count": 17,
   "id": "06ad1d60-f8b1-4ec4-9cfd-868a7fb7fd84",
   "metadata": {},
   "outputs": [
    {
     "data": {
      "text/plain": [
       "array(['actionChange', 'paymentChange'], dtype=object)"
      ]
     },
     "execution_count": 17,
     "metadata": {},
     "output_type": "execute_result"
    }
   ],
   "source": [
    "exps['Experiment'].unique()"
   ]
  },
  {
   "cell_type": "code",
   "execution_count": 18,
   "id": "ad2aa0d6-9964-406f-a97a-d5d356ef8c88",
   "metadata": {},
   "outputs": [
    {
     "data": {
      "text/plain": [
       "array(['Old', 'New'], dtype=object)"
      ]
     },
     "execution_count": 18,
     "metadata": {},
     "output_type": "execute_result"
    }
   ],
   "source": [
    "exps['Group'].unique()"
   ]
  },
  {
   "cell_type": "code",
   "execution_count": 19,
   "id": "306b8fe3-782d-4345-be59-d574f3a21ab5",
   "metadata": {},
   "outputs": [],
   "source": [
    "# Оставим только пользователей с эксперемента с измененеием стоимости подписки\n",
    "exp_payment = exps[exps['Experiment'] == 'paymentChange'].copy()"
   ]
  },
  {
   "cell_type": "code",
   "execution_count": 20,
   "id": "d6e22126-48c6-481d-a606-7ec96b6e9a87",
   "metadata": {},
   "outputs": [],
   "source": [
    "# Списки id пользователей контрольной и тестовой групп\n",
    "control_ids = exp_payment[exp_payment['Group'] == 'Old']['uid']\n",
    "test_ids = exp_payment[exp_payment['Group'] == 'New']['uid']"
   ]
  },
  {
   "cell_type": "code",
   "execution_count": 21,
   "id": "7d5ad794-70be-4f27-97e1-555f4fdac204",
   "metadata": {},
   "outputs": [],
   "source": [
    "# Проверим, что пользователи контроля не оформили подписку по цене тестовой и наоборот"
   ]
  },
  {
   "cell_type": "code",
   "execution_count": 22,
   "id": "80fccdba-2e39-4c6a-a27e-5d651e15d3c0",
   "metadata": {},
   "outputs": [
    {
     "data": {
      "text/plain": [
       "0"
      ]
     },
     "execution_count": 22,
     "metadata": {},
     "output_type": "execute_result"
    }
   ],
   "source": [
    "pays[(pays['Payment'] == 160) & (pays['uid'].isin(control_ids))]['uid'].nunique()"
   ]
  },
  {
   "cell_type": "code",
   "execution_count": 23,
   "id": "e307ff0c-7945-493e-b54f-a79fd8f5167b",
   "metadata": {},
   "outputs": [
    {
     "data": {
      "text/plain": [
       "0"
      ]
     },
     "execution_count": 23,
     "metadata": {},
     "output_type": "execute_result"
    }
   ],
   "source": [
    "pays[(pays['Payment'] == 400) & (pays['uid'].isin(test_ids))]['uid'].nunique()"
   ]
  },
  {
   "cell_type": "markdown",
   "id": "51645432-c55e-4330-933b-0f727ecd5504",
   "metadata": {},
   "source": [
    "## Рассмотрим только контрольную группу для дизайна А/Б-теста"
   ]
  },
  {
   "cell_type": "code",
   "execution_count": 35,
   "id": "a4193d63-6159-46d3-b5af-d05406bf7adf",
   "metadata": {},
   "outputs": [],
   "source": [
    "# Df с пользователями из контроля\n",
    "exp_payment_control = exp_payment[exp_payment['Group'] == 'Old']"
   ]
  },
  {
   "cell_type": "code",
   "execution_count": 37,
   "id": "3fe0f5ff-97b5-4049-bb25-430055d87759",
   "metadata": {},
   "outputs": [],
   "source": [
    "# Пользователи с подпиской\n",
    "control_subs = pays[(pays['Payment'] == 400) & (pays['uid'].isin(control_ids))]['uid']"
   ]
  },
  {
   "cell_type": "code",
   "execution_count": 25,
   "id": "d4b0362c-266f-4d74-8b24-a42f8ad75756",
   "metadata": {},
   "outputs": [
    {
     "data": {
      "text/plain": [
       "25001"
      ]
     },
     "execution_count": 25,
     "metadata": {},
     "output_type": "execute_result"
    }
   ],
   "source": [
    "# Кол-во пользователей в контрольной группе\n",
    "n_control = len(control_ids)\n",
    "n_control"
   ]
  },
  {
   "cell_type": "code",
   "execution_count": 26,
   "id": "34b4b6b9-485e-4809-ac51-6c8741004ffe",
   "metadata": {},
   "outputs": [
    {
     "data": {
      "text/plain": [
       "4968"
      ]
     },
     "execution_count": 26,
     "metadata": {},
     "output_type": "execute_result"
    }
   ],
   "source": [
    "# Кол-во пользователей оформивших подписку в контрольной группе\n",
    "pays[(pays['Payment'] == 400) & (pays['uid'].isin(control_ids))]['uid'].nunique()"
   ]
  },
  {
   "cell_type": "code",
   "execution_count": 27,
   "id": "b7dac2dc-3886-4e51-b155-f3f569f98db3",
   "metadata": {},
   "outputs": [
    {
     "data": {
      "text/plain": [
       "4968"
      ]
     },
     "execution_count": 27,
     "metadata": {},
     "output_type": "execute_result"
    }
   ],
   "source": [
    "pays[(pays['Payment'] == 400) & (pays['uid'].isin(control_ids))]['uid'].count()"
   ]
  },
  {
   "cell_type": "code",
   "execution_count": 28,
   "id": "d6654e14-1e9a-40b5-b527-354fec8ae306",
   "metadata": {},
   "outputs": [
    {
     "data": {
      "text/plain": [
       "9293"
      ]
     },
     "execution_count": 28,
     "metadata": {},
     "output_type": "execute_result"
    }
   ],
   "source": [
    "# Кол-во пользователей в контроле, сделавшие разовую подписку\n",
    "pays[(pays['Payment'] == 200) & (pays['uid'].isin(control_ids))]['uid'].nunique()"
   ]
  },
  {
   "cell_type": "code",
   "execution_count": 29,
   "id": "0ed88e02-4e0f-4861-ade8-70f6cf019dc0",
   "metadata": {},
   "outputs": [
    {
     "data": {
      "text/plain": [
       "9293"
      ]
     },
     "execution_count": 29,
     "metadata": {},
     "output_type": "execute_result"
    }
   ],
   "source": [
    "pays[(pays['Payment'] == 200) & (pays['uid'].isin(control_ids))]['uid'].count()"
   ]
  },
  {
   "cell_type": "code",
   "execution_count": 30,
   "id": "3db89482-5423-446d-814c-fab4d41253ac",
   "metadata": {},
   "outputs": [
    {
     "data": {
      "text/plain": [
       "0.19871205151793928"
      ]
     },
     "execution_count": 30,
     "metadata": {},
     "output_type": "execute_result"
    }
   ],
   "source": [
    "# Доля пользователей с подпиской в контрольной группе\n",
    "sub_part = (pays[(pays['Payment'] == 400) & (pays['uid'].isin(control_ids))]['uid'].nunique()\n",
    "/ control_ids.count())\n",
    "sub_part"
   ]
  },
  {
   "cell_type": "code",
   "execution_count": 38,
   "id": "4ce5b152-4b50-4463-b19d-d8892a4a2b9c",
   "metadata": {},
   "outputs": [
    {
     "data": {
      "text/plain": [
       "0.07399704011839527"
      ]
     },
     "execution_count": 38,
     "metadata": {},
     "output_type": "execute_result"
    }
   ],
   "source": [
    "# Доля пользователей с подпиской, сделавшие разовую подписку\n",
    "purchases_in_subs_part = (pays[(pays['Payment'] == 200) & (pays['uid'].isin(control_subs))]['uid'].count()\n",
    "/ control_ids.count())\n",
    "purchases_in_subs_part"
   ]
  },
  {
   "cell_type": "code",
   "execution_count": 39,
   "id": "841d4fc1-4caa-4875-99c8-2ccf95cfed80",
   "metadata": {},
   "outputs": [
    {
     "data": {
      "text/plain": [
       "0.29770809167633294"
      ]
     },
     "execution_count": 39,
     "metadata": {},
     "output_type": "execute_result"
    }
   ],
   "source": [
    "# Доля пользователей без подписки, сделавшие разовую подписку, без учета пользователей с подпиской\n",
    "purchases_in_notsubs_part = (pays[(pays['Payment'] == 200)\n",
    "                          & (~pays['uid'].isin(control_subs))\n",
    "                          & (pays['uid'].isin(control_ids))]['uid'].count()\n",
    "/ control_ids.count())\n",
    "purchases_in_notsubs_part"
   ]
  },
  {
   "cell_type": "code",
   "execution_count": 41,
   "id": "85f07443-de94-405b-8d5d-5a2db0b1a133",
   "metadata": {},
   "outputs": [
    {
     "data": {
      "text/plain": [
       "0.3717051317947282"
      ]
     },
     "execution_count": 41,
     "metadata": {},
     "output_type": "execute_result"
    }
   ],
   "source": [
    "# Доля пользователей сделавшие разовую подписку\n",
    "purchases_part = purchases_in_subs_part + purchases_in_notsubs_part\n",
    "purchases_part"
   ]
  },
  {
   "cell_type": "code",
   "execution_count": 42,
   "id": "817d1154-f735-4228-a3b1-bac3cb16dbb1",
   "metadata": {},
   "outputs": [
    {
     "data": {
      "text/plain": [
       "153.82584696612136"
      ]
     },
     "execution_count": 42,
     "metadata": {},
     "output_type": "execute_result"
    }
   ],
   "source": [
    "# Рассчитаем ARPU\n",
    "pays[pays['uid'].isin(control_ids)]['Payment'].sum() / control_ids.count()"
   ]
  },
  {
   "cell_type": "markdown",
   "id": "074d6cf0-f615-4e48-acb1-5288a93a44c3",
   "metadata": {},
   "source": [
    "### Попробуем предположить эффект от изменения стоимости подписки"
   ]
  },
  {
   "cell_type": "code",
   "execution_count": 43,
   "id": "99ddb76b-5fa9-4637-a555-dce155ed5cb6",
   "metadata": {},
   "outputs": [
    {
     "data": {
      "text/plain": [
       "153.82584696612133"
      ]
     },
     "execution_count": 43,
     "metadata": {},
     "output_type": "execute_result"
    }
   ],
   "source": [
    "# ARPU до изменения\n",
    "ARPU_before = (sub_part * 400 \n",
    "+ purchases_in_subs_part * 200\n",
    "+ purchases_in_notsubs_part * 200)\n",
    "ARPU_before"
   ]
  },
  {
   "cell_type": "code",
   "execution_count": 44,
   "id": "40c589f0-6fc8-420d-a620-9113104b7c4d",
   "metadata": {},
   "outputs": [
    {
     "data": {
      "text/plain": [
       "106.13495460181593"
      ]
     },
     "execution_count": 44,
     "metadata": {},
     "output_type": "execute_result"
    }
   ],
   "source": [
    "# ARPU после изменения, если доли подписок и покупок не изменятся\n",
    "ARPU_after_wo_effect = (sub_part * 160 \n",
    "+ purchases_in_subs_part * 200\n",
    "+ purchases_in_notsubs_part * 200)\n",
    "ARPU_after_wo_effect"
   ]
  },
  {
   "cell_type": "code",
   "execution_count": 45,
   "id": "ea728835-4049-424e-a70b-66e0e09dcbc7",
   "metadata": {},
   "outputs": [
    {
     "name": "stdout",
     "output_type": "stream",
     "text": [
      "ARPU уменьшится на 31.0%, если конверсии в покупку и подписку не изменятся\n"
     ]
    }
   ],
   "source": [
    "print(f'ARPU уменьшится на {round((1 - ARPU_after_wo_effect / ARPU_before) * 100, 1)}%, если конверсии в покупку и подписку не изменятся')"
   ]
  },
  {
   "cell_type": "code",
   "execution_count": 46,
   "id": "8a737261-aac7-4268-80cc-f104898e23c3",
   "metadata": {},
   "outputs": [],
   "source": [
    "# Ожидаемая ARPU после изменения:\n",
    "# - при увеличении доли подписок в 2.5 раза\n",
    "# - при увеличении доли пользователей с подпиской, сделавшие разовую подписку, среди пользователей с подпиской в 2 раза\n",
    "# - при уменьшении доли пользователей без подписки, сделавшие разовую подписку, без учета пользователей с подпиской на 12.5%"
   ]
  },
  {
   "cell_type": "code",
   "execution_count": 47,
   "id": "6e7d58a4-7ed9-441c-95a3-ad6dac798502",
   "metadata": {},
   "outputs": [],
   "source": [
    "subs_eff = 2.5\n",
    "purch_subs_eff = 2\n",
    "purch_wo_subs_eff = 0.875"
   ]
  },
  {
   "cell_type": "code",
   "execution_count": 158,
   "id": "e53b98dc-7853-4199-b4e9-7bbfe01c22e2",
   "metadata": {},
   "outputs": [
    {
     "data": {
      "text/plain": [
       "161.18255269789208"
      ]
     },
     "execution_count": 158,
     "metadata": {},
     "output_type": "execute_result"
    }
   ],
   "source": [
    "ARPU_after_effect = (sub_part * subs_eff * 160 \n",
    "+ purchases_in_subs_part * purch_subs_eff * 200\n",
    "+ purchases_in_notsubs_part * purch_wo_subs_eff * 200)\n",
    "ARPU_after_effect"
   ]
  },
  {
   "cell_type": "code",
   "execution_count": 49,
   "id": "72b871d0-1411-4210-aaa6-e361d449fb7d",
   "metadata": {},
   "outputs": [
    {
     "name": "stdout",
     "output_type": "stream",
     "text": [
      "Ожидаемое увеличение ARPU: 4.8%\n"
     ]
    }
   ],
   "source": [
    "# Увеличение ARPU\n",
    "print(f'Ожидаемое увеличение ARPU: {round(100 * (ARPU_after_effect / ARPU_before - 1), 1)}%')"
   ]
  },
  {
   "cell_type": "code",
   "execution_count": 50,
   "id": "e4deabee-f2ee-4b49-b461-88eeae21dc21",
   "metadata": {},
   "outputs": [
    {
     "data": {
      "text/plain": [
       "(37.17, 40.85)"
      ]
     },
     "execution_count": 50,
     "metadata": {},
     "output_type": "execute_result"
    }
   ],
   "source": [
    "# В таком случае, CR в разовую покупку увеличится:\n",
    "(round((purchases_in_subs_part + purchases_in_notsubs_part) * 100, 2),\n",
    "round((purchases_in_subs_part * purch_subs_eff + purchases_in_notsubs_part * purch_wo_subs_eff) * 100, 2))"
   ]
  },
  {
   "cell_type": "code",
   "execution_count": 51,
   "id": "e18355a7-448d-41c6-8041-0a205bc7509f",
   "metadata": {},
   "outputs": [
    {
     "data": {
      "text/plain": [
       "3.68"
      ]
     },
     "execution_count": 51,
     "metadata": {},
     "output_type": "execute_result"
    }
   ],
   "source": [
    "# Увеличение CR\n",
    "(-round((purchases_in_subs_part + purchases_in_notsubs_part) * 100 -\n",
    "(purchases_in_subs_part * purch_subs_eff + purchases_in_notsubs_part * purch_wo_subs_eff) * 100, 2))"
   ]
  },
  {
   "cell_type": "markdown",
   "id": "5a7d0bef-3d01-4f06-a9ec-ab80e3815ace",
   "metadata": {},
   "source": [
    "## Рассмтрим Action.csv"
   ]
  },
  {
   "cell_type": "code",
   "execution_count": 52,
   "id": "98fd0ee2-4648-4e3f-9587-ecd1a0fa620a",
   "metadata": {},
   "outputs": [],
   "source": [
    "# Проверим взаимодействие на повторяемость,\n",
    "# если значнеия совпадают, значит function имеет два значения для пользователя True or False"
   ]
  },
  {
   "cell_type": "code",
   "execution_count": 53,
   "id": "5c496dfe-3e7c-4da8-bcfa-c3112872bd25",
   "metadata": {},
   "outputs": [],
   "source": [
    "action_control = action[action['uid'].isin(control_ids)].copy()"
   ]
  },
  {
   "cell_type": "code",
   "execution_count": 54,
   "id": "eec90974-9fa7-43ab-9ffd-4746d4e2e753",
   "metadata": {},
   "outputs": [
    {
     "data": {
      "text/plain": [
       "array(['firstOpen', 'function2', 'function4', 'function1', 'function3'],\n",
       "      dtype=object)"
      ]
     },
     "execution_count": 54,
     "metadata": {},
     "output_type": "execute_result"
    }
   ],
   "source": [
    "action_control['Action'].unique()"
   ]
  },
  {
   "cell_type": "code",
   "execution_count": 55,
   "id": "7d70ed00-2b88-4183-98ba-e91c8a2c4033",
   "metadata": {},
   "outputs": [
    {
     "name": "stdout",
     "output_type": "stream",
     "text": [
      "Повторений взаимодействий с firstOpen нет: True\n",
      "Повторений взаимодействий с function1 нет: True\n",
      "Повторений взаимодействий с function2 нет: True\n",
      "Повторений взаимодействий с function3 нет: True\n",
      "Повторений взаимодействий с function4 нет: True\n"
     ]
    }
   ],
   "source": [
    "actions_list = ['firstOpen', 'function1', 'function2', 'function3', 'function4']\n",
    "\n",
    "for a in actions_list:\n",
    "    t = action_control[action_control['Action'] == a].shape[0] == action_control[action_control['Action'] == a]['uid'].nunique()\n",
    "    print(f\"Повторений взаимодействий с {a} нет: {t}\")"
   ]
  },
  {
   "cell_type": "code",
   "execution_count": 56,
   "id": "f3de04c1-8ace-4a90-a7f7-8244d10783d8",
   "metadata": {},
   "outputs": [],
   "source": [
    "# Возьмем даты первого открытия для контрольной группы\n",
    "firstopen_control = action[(action['Action'] == 'firstOpen') & (action['uid'].isin(control_ids))]"
   ]
  },
  {
   "cell_type": "code",
   "execution_count": 57,
   "id": "701098da-cf7b-449f-98c7-e4e2df0ddffe",
   "metadata": {},
   "outputs": [],
   "source": [
    "# Добавим информацию по взаимодействию с фичами, первым откртием и суммой платежей для каждого пользователя\n",
    "exp_payment_control = (exp_payment_control.merge(firstopen_control[['uid', 'Ts']], how='left', on='uid')\n",
    "                                          .rename(columns={'Ts': 'first_open'}))\n",
    "exp_payment_control.loc[:,'first_open'] = exp_payment_control['first_open'].apply(lambda x: datetime.strptime(x, '%Y-%m-%d %H:%M:%S').date())"
   ]
  },
  {
   "cell_type": "code",
   "execution_count": 58,
   "id": "adbaf152-0a79-41b9-b40b-8d070e08aed4",
   "metadata": {},
   "outputs": [],
   "source": [
    "control_pays = pays[pays['uid'].isin(control_ids)].groupby('uid', as_index=False).agg({'Payment': 'sum'})"
   ]
  },
  {
   "cell_type": "code",
   "execution_count": 59,
   "id": "dafdb42b-310b-4051-88d7-2a4ce747773a",
   "metadata": {},
   "outputs": [],
   "source": [
    "exp_payment_control = exp_payment_control.merge(control_pays, how='left', on='uid').fillna(0)"
   ]
  },
  {
   "cell_type": "code",
   "execution_count": 60,
   "id": "25151a51-e118-4a97-8968-bc7a405ed869",
   "metadata": {},
   "outputs": [],
   "source": [
    "# Добавим колонку о наличии подписки\n",
    "exp_payment_control.loc[:, 'subscription'] = exp_payment_control['uid'].isin(pays[(pays['Payment'] == 400)\n",
    "                                                                                  & (pays['uid'].isin(control_ids))]['uid'])"
   ]
  },
  {
   "cell_type": "code",
   "execution_count": 61,
   "id": "804acc1c-5207-48af-ad37-a7a476716f61",
   "metadata": {},
   "outputs": [],
   "source": [
    "# Добавим колонку о наличии разовой покупки\n",
    "exp_payment_control.loc[:, 'purchase'] = exp_payment_control['uid'].isin(pays[(pays['Payment'] == 200)\n",
    "                                                                                  & (pays['uid'].isin(control_ids))]['uid'])"
   ]
  },
  {
   "cell_type": "code",
   "execution_count": 62,
   "id": "8facf273-bf9f-4459-a494-64a0c217d69b",
   "metadata": {},
   "outputs": [],
   "source": [
    "# Добавим колонку об использовании различных функций\n",
    "exp_payment_control.loc[:, 'function1'] = exp_payment_control['uid'].isin(action_control[action_control['Action'] == 'function1']['uid'])\n",
    "exp_payment_control.loc[:, 'function2'] = exp_payment_control['uid'].isin(action_control[action_control['Action'] == 'function2']['uid'])\n",
    "exp_payment_control.loc[:, 'function3'] = exp_payment_control['uid'].isin(action_control[action_control['Action'] == 'function3']['uid'])\n",
    "exp_payment_control.loc[:, 'function4'] = exp_payment_control['uid'].isin(action_control[action_control['Action'] == 'function4']['uid'])"
   ]
  },
  {
   "cell_type": "markdown",
   "id": "f28f91fb-acd5-43b8-a876-73d09900c783",
   "metadata": {},
   "source": [
    "### Проверим взаимодействия с фичами на корреляцию с подписками и разовыми покупками"
   ]
  },
  {
   "cell_type": "code",
   "execution_count": 63,
   "id": "f18099c0-b88e-4911-9e14-fdf319892cd7",
   "metadata": {},
   "outputs": [],
   "source": [
    "def cramers_v(confusion_matrix):\n",
    "    \"\"\" calculate Cramers V statistic for categorial-categorial association.\n",
    "        uses correction from Bergsma and Wicher,\n",
    "        Journal of the Korean Statistical Society 42 (2013): 323-328\n",
    "    \"\"\"\n",
    "    chi2 = stats.chi2_contingency(confusion_matrix)[0]\n",
    "    n = confusion_matrix.sum()\n",
    "    phi2 = chi2 / n\n",
    "    r, k = confusion_matrix.shape\n",
    "    phi2corr = max(0, phi2 - ((k - 1) * (r - 1)) / (n - 1))\n",
    "    rcorr = r - ((r - 1) ** 2) / (n - 1)\n",
    "    kcorr = k - ((k - 1) ** 2) / (n - 1)\n",
    "    return np.sqrt(phi2corr / min((kcorr - 1), (rcorr - 1))), stats.chi2_contingency(confusion_matrix)[0], stats.chi2_contingency(confusion_matrix)[1]"
   ]
  },
  {
   "cell_type": "code",
   "execution_count": 64,
   "id": "0fe32434-3d7e-4b97-8d29-66f8c1d7f87f",
   "metadata": {},
   "outputs": [
    {
     "data": {
      "text/html": [
       "<div>\n",
       "<style scoped>\n",
       "    .dataframe tbody tr th:only-of-type {\n",
       "        vertical-align: middle;\n",
       "    }\n",
       "\n",
       "    .dataframe tbody tr th {\n",
       "        vertical-align: top;\n",
       "    }\n",
       "\n",
       "    .dataframe thead th {\n",
       "        text-align: right;\n",
       "    }\n",
       "</style>\n",
       "<table border=\"1\" class=\"dataframe\">\n",
       "  <thead>\n",
       "    <tr style=\"text-align: right;\">\n",
       "      <th></th>\n",
       "      <th>Experiment</th>\n",
       "      <th>Group</th>\n",
       "      <th>uid</th>\n",
       "      <th>first_open</th>\n",
       "      <th>Payment</th>\n",
       "      <th>subscription</th>\n",
       "      <th>purchase</th>\n",
       "      <th>function1</th>\n",
       "      <th>function2</th>\n",
       "      <th>function3</th>\n",
       "      <th>function4</th>\n",
       "    </tr>\n",
       "  </thead>\n",
       "  <tbody>\n",
       "    <tr>\n",
       "      <th>14275</th>\n",
       "      <td>paymentChange</td>\n",
       "      <td>Old</td>\n",
       "      <td>rfkpb</td>\n",
       "      <td>2020-01-12</td>\n",
       "      <td>400.0</td>\n",
       "      <td>True</td>\n",
       "      <td>False</td>\n",
       "      <td>True</td>\n",
       "      <td>False</td>\n",
       "      <td>True</td>\n",
       "      <td>False</td>\n",
       "    </tr>\n",
       "    <tr>\n",
       "      <th>4151</th>\n",
       "      <td>paymentChange</td>\n",
       "      <td>Old</td>\n",
       "      <td>vkfbo</td>\n",
       "      <td>2020-01-16</td>\n",
       "      <td>0.0</td>\n",
       "      <td>False</td>\n",
       "      <td>False</td>\n",
       "      <td>False</td>\n",
       "      <td>True</td>\n",
       "      <td>True</td>\n",
       "      <td>True</td>\n",
       "    </tr>\n",
       "    <tr>\n",
       "      <th>3002</th>\n",
       "      <td>paymentChange</td>\n",
       "      <td>Old</td>\n",
       "      <td>scehb</td>\n",
       "      <td>2020-01-16</td>\n",
       "      <td>0.0</td>\n",
       "      <td>False</td>\n",
       "      <td>False</td>\n",
       "      <td>False</td>\n",
       "      <td>True</td>\n",
       "      <td>True</td>\n",
       "      <td>True</td>\n",
       "    </tr>\n",
       "    <tr>\n",
       "      <th>20242</th>\n",
       "      <td>paymentChange</td>\n",
       "      <td>Old</td>\n",
       "      <td>ogxmc</td>\n",
       "      <td>2020-01-12</td>\n",
       "      <td>0.0</td>\n",
       "      <td>False</td>\n",
       "      <td>False</td>\n",
       "      <td>True</td>\n",
       "      <td>False</td>\n",
       "      <td>True</td>\n",
       "      <td>True</td>\n",
       "    </tr>\n",
       "    <tr>\n",
       "      <th>4717</th>\n",
       "      <td>paymentChange</td>\n",
       "      <td>Old</td>\n",
       "      <td>pvuni</td>\n",
       "      <td>2020-01-18</td>\n",
       "      <td>200.0</td>\n",
       "      <td>False</td>\n",
       "      <td>True</td>\n",
       "      <td>False</td>\n",
       "      <td>True</td>\n",
       "      <td>False</td>\n",
       "      <td>True</td>\n",
       "    </tr>\n",
       "  </tbody>\n",
       "</table>\n",
       "</div>"
      ],
      "text/plain": [
       "          Experiment Group    uid  first_open  Payment  subscription  \\\n",
       "14275  paymentChange   Old  rfkpb  2020-01-12    400.0          True   \n",
       "4151   paymentChange   Old  vkfbo  2020-01-16      0.0         False   \n",
       "3002   paymentChange   Old  scehb  2020-01-16      0.0         False   \n",
       "20242  paymentChange   Old  ogxmc  2020-01-12      0.0         False   \n",
       "4717   paymentChange   Old  pvuni  2020-01-18    200.0         False   \n",
       "\n",
       "       purchase  function1  function2  function3  function4  \n",
       "14275     False       True      False       True      False  \n",
       "4151      False      False       True       True       True  \n",
       "3002      False      False       True       True       True  \n",
       "20242     False       True      False       True       True  \n",
       "4717       True      False       True      False       True  "
      ]
     },
     "execution_count": 64,
     "metadata": {},
     "output_type": "execute_result"
    }
   ],
   "source": [
    "exp_payment_control.sample(5)"
   ]
  },
  {
   "cell_type": "code",
   "execution_count": 65,
   "id": "19e624e9-e82b-441d-bd3a-49bf0dff24a0",
   "metadata": {},
   "outputs": [],
   "source": [
    "le = preprocessing.LabelEncoder()\n",
    "exp_payment_control = exp_payment_control.copy()\n",
    "exp_payment_control['subscription'] = le.fit_transform(exp_payment_control['subscription'])"
   ]
  },
  {
   "cell_type": "code",
   "execution_count": 66,
   "id": "4b9ac63c-13e3-4d90-a2b8-9fef438bbbaf",
   "metadata": {},
   "outputs": [
    {
     "name": "stdout",
     "output_type": "stream",
     "text": [
      "Точечно-бисериальной корреляция между subscription и function1: статистика = 0.0053, p-value = 0.4015\n",
      "Точечно-бисериальной корреляция между subscription и function2: статистика = -0.0035, p-value = 0.5823\n",
      "Точечно-бисериальной корреляция между subscription и function3: статистика = -0.0003, p-value = 0.9665\n",
      "Точечно-бисериальной корреляция между subscription и function4: статистика = -0.0037, p-value = 0.5624\n"
     ]
    }
   ],
   "source": [
    "for a in actions_list[1:]:\n",
    "    s, p = stats.pointbiserialr(exp_payment_control['subscription'],\n",
    "                                exp_payment_control[a])\n",
    "    print(f'Точечно-бисериальной корреляция между subscription и {a}: статистика = {round(s, 4)}, p-value = {round(p, 4)}')"
   ]
  },
  {
   "cell_type": "code",
   "execution_count": 67,
   "id": "41cac6ad-939f-4706-a469-08b5e8ba5e9b",
   "metadata": {},
   "outputs": [],
   "source": [
    "le = preprocessing.LabelEncoder()\n",
    "exp_payment_control = exp_payment_control.copy()\n",
    "exp_payment_control['purchase'] = le.fit_transform(exp_payment_control['purchase'])"
   ]
  },
  {
   "cell_type": "code",
   "execution_count": 68,
   "id": "48fed8ae-0203-4193-b673-551e6f7249f6",
   "metadata": {},
   "outputs": [
    {
     "name": "stdout",
     "output_type": "stream",
     "text": [
      "Точечно-бисериальной корреляция между purchase и function1: статистика = 0.1404, p-value = 0.0\n",
      "Точечно-бисериальной корреляция между purchase и function2: статистика = -0.14, p-value = 0.0\n",
      "Точечно-бисериальной корреляция между purchase и function3: статистика = -0.0, p-value = 0.9959\n",
      "Точечно-бисериальной корреляция между purchase и function4: статистика = 0.0061, p-value = 0.3317\n"
     ]
    }
   ],
   "source": [
    "for a in actions_list[1:]:\n",
    "    s, p = stats.pointbiserialr(exp_payment_control['purchase'],\n",
    "                                exp_payment_control[a])\n",
    "    print(f'Точечно-бисериальной корреляция между purchase и {a}: статистика = {round(s, 4)}, p-value = {round(p, 4)}')"
   ]
  },
  {
   "cell_type": "code",
   "execution_count": 69,
   "id": "4cd06a3b-399a-4472-9be8-56290842fdc5",
   "metadata": {},
   "outputs": [
    {
     "data": {
      "text/plain": [
       "SignificanceResult(statistic=0.0006987856405362603, pvalue=0.912025213323197)"
      ]
     },
     "execution_count": 69,
     "metadata": {},
     "output_type": "execute_result"
    }
   ],
   "source": [
    "stats.pointbiserialr(exp_payment_control['purchase'],\n",
    "                     exp_payment_control['subscription'])"
   ]
  },
  {
   "cell_type": "code",
   "execution_count": 70,
   "id": "a97990b6-f54b-44f2-8751-b7d416115029",
   "metadata": {},
   "outputs": [
    {
     "name": "stdout",
     "output_type": "stream",
     "text": [
      "Доля пользователей function1: 55.1%\n",
      "Доля пользователей function2: 55.1%\n",
      "Доля пользователей function3: 79.9%\n",
      "Доля пользователей function4: 80.5%\n"
     ]
    }
   ],
   "source": [
    "for a in actions_list[1:]:\n",
    "    print(f\"Доля пользователей {a}: {round(exp_payment_control[a].sum() / exp_payment_control.shape[0] * 100, 1)}%\")"
   ]
  },
  {
   "cell_type": "markdown",
   "id": "c651f6a1-9910-42c4-985e-2f00e58c8b58",
   "metadata": {},
   "source": [
    "## Расчитаем размер выборки"
   ]
  },
  {
   "cell_type": "code",
   "execution_count": 71,
   "id": "b97f798a-81c3-4667-abab-9f108d6edd53",
   "metadata": {},
   "outputs": [
    {
     "name": "stdout",
     "output_type": "stream",
     "text": [
      "Размер выборки (для каждой группы) для ARPU (MDE = 4.8%): 10106.42\n"
     ]
    }
   ],
   "source": [
    "std = exp_payment_control['Payment'].std()\n",
    "cohen_d = (ARPU_after_effect - ARPU_before) / std\n",
    "r = 1\n",
    "\n",
    "s_size_arpu = tt_ind_solve_power(\n",
    "                effect_size=cohen_d,\n",
    "                alpha=0.05,\n",
    "                power=0.8,\n",
    "                ratio=r,    # n2/n1 - отношение размеров выборки (ni - размер выборки в i-й группе);\n",
    "                alternative=\"two-sided\"\n",
    ")\n",
    "mde_arpu = (ARPU_after_effect / ARPU_before - 1) * 100\n",
    "print(f\"Размер выборки (для каждой группы) для ARPU (MDE = {mde_arpu:.1f}%): {s_size_arpu:.2f}\") # Для ratio == 1"
   ]
  },
  {
   "cell_type": "code",
   "execution_count": 72,
   "id": "25e8a198-c974-4505-9a49-e10ad9386fec",
   "metadata": {},
   "outputs": [
    {
     "name": "stdout",
     "output_type": "stream",
     "text": [
      "-0.04162757737451761\n",
      "Необходимый размер выборки для теста пропорций (chi-square test) для CR в разовую покупку (MDE = -2%): 9058.88\n"
     ]
    }
   ],
   "source": [
    "# chi-test\n",
    "p1 = purchases_in_subs_part + purchases_in_notsubs_part - 0.02\n",
    "p2 = purchases_in_subs_part + purchases_in_notsubs_part\n",
    "effect_size = proportion_effectsize(p1, p2) # самая важная часть!\n",
    "\n",
    "print(effect_size)\n",
    "\n",
    "s_size_cr = NormalIndPower().solve_power(effect_size=effect_size, alpha=0.05, power=0.8, ratio=1, alternative='two-sided')\n",
    "print(f'Необходимый размер выборки для теста пропорций (chi-square test) для CR в разовую покупку (MDE = -2%): {s_size_cr:.2f}')"
   ]
  },
  {
   "cell_type": "markdown",
   "id": "734910ed-7f05-4a79-b768-ce44b07b9f30",
   "metadata": {},
   "source": [
    "#### Длительность эксперимента"
   ]
  },
  {
   "cell_type": "code",
   "execution_count": 73,
   "id": "92a9eca1-dfb5-4b86-91eb-7974ed5804b9",
   "metadata": {},
   "outputs": [
    {
     "data": {
      "text/plain": [
       "('2020-01-09 19:00:27', '2020-01-19 18:59:55')"
      ]
     },
     "execution_count": 73,
     "metadata": {},
     "output_type": "execute_result"
    }
   ],
   "source": [
    "(firstopen_control['Ts'].min(), firstopen_control['Ts'].max())"
   ]
  },
  {
   "cell_type": "code",
   "execution_count": 74,
   "id": "33f6b7ee-c2da-47f1-9442-3903667f3f88",
   "metadata": {},
   "outputs": [
    {
     "data": {
      "text/html": [
       "<div>\n",
       "<style scoped>\n",
       "    .dataframe tbody tr th:only-of-type {\n",
       "        vertical-align: middle;\n",
       "    }\n",
       "\n",
       "    .dataframe tbody tr th {\n",
       "        vertical-align: top;\n",
       "    }\n",
       "\n",
       "    .dataframe thead th {\n",
       "        text-align: right;\n",
       "    }\n",
       "</style>\n",
       "<table border=\"1\" class=\"dataframe\">\n",
       "  <thead>\n",
       "    <tr style=\"text-align: right;\">\n",
       "      <th></th>\n",
       "      <th>first_open</th>\n",
       "      <th>uid</th>\n",
       "    </tr>\n",
       "  </thead>\n",
       "  <tbody>\n",
       "    <tr>\n",
       "      <th>0</th>\n",
       "      <td>2020-01-09</td>\n",
       "      <td>559</td>\n",
       "    </tr>\n",
       "    <tr>\n",
       "      <th>1</th>\n",
       "      <td>2020-01-10</td>\n",
       "      <td>2559</td>\n",
       "    </tr>\n",
       "    <tr>\n",
       "      <th>2</th>\n",
       "      <td>2020-01-11</td>\n",
       "      <td>2493</td>\n",
       "    </tr>\n",
       "    <tr>\n",
       "      <th>3</th>\n",
       "      <td>2020-01-12</td>\n",
       "      <td>2472</td>\n",
       "    </tr>\n",
       "    <tr>\n",
       "      <th>4</th>\n",
       "      <td>2020-01-13</td>\n",
       "      <td>2424</td>\n",
       "    </tr>\n",
       "    <tr>\n",
       "      <th>5</th>\n",
       "      <td>2020-01-14</td>\n",
       "      <td>2530</td>\n",
       "    </tr>\n",
       "    <tr>\n",
       "      <th>6</th>\n",
       "      <td>2020-01-15</td>\n",
       "      <td>2552</td>\n",
       "    </tr>\n",
       "    <tr>\n",
       "      <th>7</th>\n",
       "      <td>2020-01-16</td>\n",
       "      <td>2416</td>\n",
       "    </tr>\n",
       "    <tr>\n",
       "      <th>8</th>\n",
       "      <td>2020-01-17</td>\n",
       "      <td>2543</td>\n",
       "    </tr>\n",
       "    <tr>\n",
       "      <th>9</th>\n",
       "      <td>2020-01-18</td>\n",
       "      <td>2498</td>\n",
       "    </tr>\n",
       "    <tr>\n",
       "      <th>10</th>\n",
       "      <td>2020-01-19</td>\n",
       "      <td>1955</td>\n",
       "    </tr>\n",
       "  </tbody>\n",
       "</table>\n",
       "</div>"
      ],
      "text/plain": [
       "    first_open   uid\n",
       "0   2020-01-09   559\n",
       "1   2020-01-10  2559\n",
       "2   2020-01-11  2493\n",
       "3   2020-01-12  2472\n",
       "4   2020-01-13  2424\n",
       "5   2020-01-14  2530\n",
       "6   2020-01-15  2552\n",
       "7   2020-01-16  2416\n",
       "8   2020-01-17  2543\n",
       "9   2020-01-18  2498\n",
       "10  2020-01-19  1955"
      ]
     },
     "execution_count": 74,
     "metadata": {},
     "output_type": "execute_result"
    }
   ],
   "source": [
    "# Кол-во пользователей по дням (первый и последний день непольный),\n",
    "# т.к. за исторические данные взяли контроль, получаем значения примерно в два раза ниже действительности\n",
    "exp_payment_control.groupby('first_open', as_index=False).agg({'uid': 'count'})"
   ]
  },
  {
   "cell_type": "code",
   "execution_count": 75,
   "id": "1e3b2409-381e-40f0-8ffa-79fce1058d01",
   "metadata": {},
   "outputs": [
    {
     "data": {
      "text/plain": [
       "2500.1"
      ]
     },
     "execution_count": 75,
     "metadata": {},
     "output_type": "execute_result"
    }
   ],
   "source": [
    "# У нас 10 полных дней, найдем среднее число новых пользователей в сутки\n",
    "daily_new_users = exp_payment_control.groupby('first_open', as_index=False).agg({'uid': 'count'})['uid'].sum() / 10\n",
    "daily_new_users"
   ]
  },
  {
   "cell_type": "code",
   "execution_count": 76,
   "id": "ba25a25a-82fd-41cb-a54b-1de5de3d105f",
   "metadata": {},
   "outputs": [
    {
     "name": "stdout",
     "output_type": "stream",
     "text": [
      "Длительность для ARPU (дней): 4.04\n"
     ]
    }
   ],
   "source": [
    "print(f'Длительность для ARPU (дней): {(s_size_arpu / daily_new_users):.2f}')"
   ]
  },
  {
   "cell_type": "code",
   "execution_count": 77,
   "id": "42d588fc-08a8-4659-8c2c-a5d3e2f0a2b0",
   "metadata": {},
   "outputs": [
    {
     "name": "stdout",
     "output_type": "stream",
     "text": [
      "Длительность для CR (дней): 3.62\n"
     ]
    }
   ],
   "source": [
    "print(f'Длительность для CR (дней): {(s_size_cr / daily_new_users):.2f}')"
   ]
  },
  {
   "cell_type": "code",
   "execution_count": 78,
   "id": "25041302-b9dd-4050-80f9-1cf5f61e91c7",
   "metadata": {},
   "outputs": [
    {
     "data": {
      "text/plain": [
       "17500.7"
      ]
     },
     "execution_count": 78,
     "metadata": {},
     "output_type": "execute_result"
    }
   ],
   "source": [
    "daily_new_users * 7"
   ]
  },
  {
   "cell_type": "markdown",
   "id": "351d2e30-24cf-49fd-ba8b-9afe8a8dc845",
   "metadata": {},
   "source": [
    "# Анализ результатов эксперимента"
   ]
  },
  {
   "cell_type": "markdown",
   "id": "2ebe5f9e-c76d-46cd-a990-58a17e253a75",
   "metadata": {},
   "source": [
    "## Подведем результаты согласно длительности по дизайну (7 дней)"
   ]
  },
  {
   "cell_type": "code",
   "execution_count": 79,
   "id": "0d3f3bfe-9b42-4c38-a850-83ff591bb72a",
   "metadata": {},
   "outputs": [],
   "source": [
    "# Отберем пользователей за 7 дней"
   ]
  },
  {
   "cell_type": "code",
   "execution_count": 80,
   "id": "b30e5dd8-7e65-4da3-9f30-cefc657bfc5d",
   "metadata": {},
   "outputs": [],
   "source": [
    "action_first_open = action[(action['Action'] == 'firstOpen')].copy()"
   ]
  },
  {
   "cell_type": "code",
   "execution_count": 81,
   "id": "c443583e-1bdd-4552-ae3f-c2b6a9f604ba",
   "metadata": {},
   "outputs": [],
   "source": [
    "action_first_open = action_first_open.merge(exp_payment[['Group', 'uid']], on='uid', how='left')"
   ]
  },
  {
   "cell_type": "code",
   "execution_count": 82,
   "id": "251b42b2-ca9b-47a3-93fd-190a996b928a",
   "metadata": {},
   "outputs": [],
   "source": [
    "action_first_open['Ts'] = action_first_open['Ts'].apply(lambda x: datetime.strptime(x, \"%Y-%m-%d %H:%M:%S\"))"
   ]
  },
  {
   "cell_type": "code",
   "execution_count": 83,
   "id": "68773261-d0fd-44b6-8fca-0016883d65b9",
   "metadata": {},
   "outputs": [],
   "source": [
    "action_first_open['date'] = action_first_open['Ts'].dt.date"
   ]
  },
  {
   "cell_type": "code",
   "execution_count": 84,
   "id": "f3c7951e-00b5-4050-898b-2c8c918d6515",
   "metadata": {},
   "outputs": [
    {
     "data": {
      "text/plain": [
       "'2020-01-09 19:00:27'"
      ]
     },
     "execution_count": 84,
     "metadata": {},
     "output_type": "execute_result"
    }
   ],
   "source": [
    "start_time = datetime.strptime(action[action['Action'] == 'firstOpen']['Ts'].min(), \"%Y-%m-%d %H:%M:%S\")\n",
    "str(start_time)"
   ]
  },
  {
   "cell_type": "code",
   "execution_count": 85,
   "id": "9eca6b2b-f5eb-4f76-91a2-6e83c7723313",
   "metadata": {},
   "outputs": [],
   "source": [
    "# Задаем время окончания эксперимента\n",
    "end_time = start_time + timedelta(days=7)"
   ]
  },
  {
   "cell_type": "code",
   "execution_count": 86,
   "id": "8b48756f-234a-4a24-b17e-1d24dc27acf6",
   "metadata": {},
   "outputs": [],
   "source": [
    "action_first_open_7d = action_first_open[(action_first_open['Ts'] <= end_time)]"
   ]
  },
  {
   "cell_type": "code",
   "execution_count": 87,
   "id": "de00c229-bd49-40d7-be7b-811128890e72",
   "metadata": {},
   "outputs": [],
   "source": [
    "id_list_7d = action_first_open_7d['uid'].to_list()"
   ]
  },
  {
   "cell_type": "code",
   "execution_count": 145,
   "id": "74ce2ec5-b7fc-4a57-aa46-14a918d7ccd5",
   "metadata": {},
   "outputs": [],
   "source": [
    "exp_payment_7d = exp_payment[exp_payment['uid'].isin(id_list_7d)]"
   ]
  },
  {
   "cell_type": "markdown",
   "id": "41055c3d-4a6a-4920-8ef7-5094d74222b7",
   "metadata": {},
   "source": [
    "### SRM (Sample Ratio Mismatch)"
   ]
  },
  {
   "cell_type": "code",
   "execution_count": 89,
   "id": "1467f8d6-7b4a-485c-8374-3b58416629dc",
   "metadata": {},
   "outputs": [
    {
     "name": "stdout",
     "output_type": "stream",
     "text": [
      "Пользователей:\n",
      "Тест = 17508\n",
      "Контроль = 17504\n"
     ]
    }
   ],
   "source": [
    "print(f'''Пользователей:\n",
    "Тест = {sum(exp_payment_7d['Group'] == 'New')}\n",
    "Контроль = {sum(exp_payment_7d['Group'] == 'Old')}''')"
   ]
  },
  {
   "cell_type": "code",
   "execution_count": 90,
   "id": "a5e368ab-c314-4032-b2d6-6b1435f4491a",
   "metadata": {},
   "outputs": [
    {
     "data": {
      "text/plain": [
       "0.9829447332556981"
      ]
     },
     "execution_count": 90,
     "metadata": {},
     "output_type": "execute_result"
    }
   ],
   "source": [
    "ratio = 0.5\n",
    "fact_ratios =  [sum(exp_payment_7d['Group'] == 'Old'), sum(exp_payment_7d['Group'] == 'New')]\n",
    "estimated_ratios =  [len(exp_payment_7d) * ratio, len(exp_payment_7d) * (1 - ratio)]\n",
    "\n",
    "chi_stat, p_val = stats.chisquare(fact_ratios, estimated_ratios)\n",
    "p_val"
   ]
  },
  {
   "cell_type": "code",
   "execution_count": 91,
   "id": "572fa978-1753-4841-a146-716ad5c24d12",
   "metadata": {},
   "outputs": [],
   "source": [
    "# ID пользователей из второго эксперимента\n",
    "uid_action_change_control = exps[(exps['Experiment'] == 'actionChange') & (exps['Group'] == 'Old')]['uid'].to_list()\n",
    "uid_action_change_test = exps[(exps['Experiment'] == 'actionChange') & (exps['Group'] == 'New')]['uid'].to_list()"
   ]
  },
  {
   "cell_type": "code",
   "execution_count": 92,
   "id": "17d84664-e843-40ad-8bfb-2588f7fd1723",
   "metadata": {},
   "outputs": [],
   "source": [
    "# Проверим соотношение пользователей из второго эксперимента в нашем"
   ]
  },
  {
   "cell_type": "code",
   "execution_count": 93,
   "id": "301383d7-cd41-4dc9-b6f3-bf58bac9877c",
   "metadata": {},
   "outputs": [
    {
     "name": "stdout",
     "output_type": "stream",
     "text": [
      "Пользователей из контроля actionChange в группах paymentChange:\n",
      "Тест = 8697\n",
      "Контроль = 8794\n",
      "p-value = 0.46\n"
     ]
    }
   ],
   "source": [
    "control_in_test = ((exp_payment_7d['Group'] == 'New') & (exp_payment_7d['uid'].isin(uid_action_change_control))).sum()\n",
    "control_in_control = ((exp_payment_7d['Group'] == 'Old') & (exp_payment_7d['uid'].isin(uid_action_change_control))).sum()\n",
    "\n",
    "fact_ratios =  [control_in_test, control_in_control]\n",
    "estimated_ratios =  [(control_in_test + control_in_control) * ratio, (control_in_test + control_in_control) * (1 - ratio)]\n",
    "chi_stat, p_val = stats.chisquare(fact_ratios, estimated_ratios)\n",
    "\n",
    "print(f'''Пользователей из контроля actionChange в группах paymentChange:\n",
    "Тест = {control_in_test}\n",
    "Контроль = {control_in_control}\n",
    "p-value = {p_val:.2f}''')"
   ]
  },
  {
   "cell_type": "code",
   "execution_count": 94,
   "id": "6d3eb999-6d71-4b2d-bfa2-45da80abb063",
   "metadata": {},
   "outputs": [
    {
     "name": "stdout",
     "output_type": "stream",
     "text": [
      "Пользователей из теста actionChange в группах paymentChange:\n",
      "Тест = 8811\n",
      "Контроль = 8710\n",
      "p-value = 0.45\n"
     ]
    }
   ],
   "source": [
    "test_in_test = ((exp_payment_7d['Group'] == 'New') & (exp_payment_7d['uid'].isin(uid_action_change_test))).sum()\n",
    "test_in_control = ((exp_payment_7d['Group'] == 'Old') & (exp_payment_7d['uid'].isin(uid_action_change_test))).sum()\n",
    "\n",
    "fact_ratios =  [test_in_test, test_in_control]\n",
    "estimated_ratios =  [(test_in_test + test_in_control) * ratio, (test_in_test + test_in_control) * (1 - ratio)]\n",
    "chi_stat, p_val = stats.chisquare(fact_ratios, estimated_ratios)\n",
    "\n",
    "print(f'''Пользователей из теста actionChange в группах paymentChange:\n",
    "Тест = {test_in_test}\n",
    "Контроль = {test_in_control}\n",
    "p-value = {p_val:.2f}''')"
   ]
  },
  {
   "cell_type": "code",
   "execution_count": 167,
   "id": "f507b153-92ac-403b-875d-08b1726b27ed",
   "metadata": {},
   "outputs": [
    {
     "data": {
      "text/plain": [
       "<Axes: xlabel='date', ylabel='uid'>"
      ]
     },
     "execution_count": 167,
     "metadata": {},
     "output_type": "execute_result"
    },
    {
     "data": {
      "image/png": "[encoded data removed]",
      "text/plain": [
       "<Figure size 1500x500 with 1 Axes>"
      ]
     },
     "metadata": {},
     "output_type": "display_data"
    }
   ],
   "source": [
    "df_agg = action_first_open_7d.groupby(['date', 'Group'])['uid'].nunique().reset_index()\n",
    "df_agg['Group'] = df_agg['Group'].replace({'New': 'Test', 'Old': 'Control'})\n",
    "\n",
    "plt.figure(figsize=(15, 5))\n",
    "sns.barplot(data=df_agg, x='date', y='uid', hue='Group', palette=['#63d297ff', '#999999ff'])"
   ]
  },
  {
   "cell_type": "markdown",
   "id": "7305af42-5729-40a6-a0a9-108fdb304807",
   "metadata": {},
   "source": [
    "### Посчитаем конверсии и APPU"
   ]
  },
  {
   "cell_type": "code",
   "execution_count": 96,
   "id": "661f4697-2e9a-4baa-9d65-1490f0e58d69",
   "metadata": {},
   "outputs": [
    {
     "data": {
      "text/plain": [
       "(17504, 17508)"
      ]
     },
     "execution_count": 96,
     "metadata": {},
     "output_type": "execute_result"
    }
   ],
   "source": [
    "exp_payment_7d_control_id = exp_payment_7d[exp_payment_7d['Group'] == 'Old']['uid']\n",
    "exp_payment_7d_test_id = exp_payment_7d[exp_payment_7d['Group'] == 'New']['uid']\n",
    "(len(exp_payment_7d_control_id), len(exp_payment_7d_test_id))"
   ]
  },
  {
   "cell_type": "code",
   "execution_count": 97,
   "id": "b3351064-6888-46c1-9082-a9c1c14132fe",
   "metadata": {},
   "outputs": [],
   "source": [
    "# Пользователи с подпиской\n",
    "exp_payment_7d_control_subs = pays[(pays['Payment'] == 400) & (pays['uid'].isin(exp_payment_7d_control_id))]['uid']\n",
    "exp_payment_7d_test_subs = pays[(pays['Payment'] == 160) & (pays['uid'].isin(exp_payment_7d_test_id))]['uid']"
   ]
  },
  {
   "cell_type": "code",
   "execution_count": null,
   "id": "a95bb28d-da90-4588-9920-fa467fac1378",
   "metadata": {},
   "outputs": [],
   "source": []
  },
  {
   "cell_type": "code",
   "execution_count": 98,
   "id": "436c6d07-5c9b-42b0-98d6-1a4c0605241c",
   "metadata": {},
   "outputs": [
    {
     "data": {
      "text/plain": [
       "0.1983546617915905"
      ]
     },
     "execution_count": 98,
     "metadata": {},
     "output_type": "execute_result"
    }
   ],
   "source": [
    "# Доля пользователей с подпиской в контрольной группе\n",
    "sub_part_control = (pays[(pays['Payment'] == 400) & (pays['uid'].isin(exp_payment_7d_control_id))]['uid'].nunique()\n",
    "/ exp_payment_7d_control_id.count())\n",
    "sub_part_control"
   ]
  },
  {
   "cell_type": "code",
   "execution_count": 99,
   "id": "919c06fc-8228-49af-93d7-12c68b38e486",
   "metadata": {},
   "outputs": [
    {
     "data": {
      "text/plain": [
       "0.5"
      ]
     },
     "execution_count": 99,
     "metadata": {},
     "output_type": "execute_result"
    }
   ],
   "source": [
    "# Доля пользователей с подпиской в тестовой группе\n",
    "sub_part_test = (pays[(pays['Payment'] == 160) & (pays['uid'].isin(exp_payment_7d_test_id))]['uid'].nunique()\n",
    "/ exp_payment_7d_test_id.count())\n",
    "sub_part_test"
   ]
  },
  {
   "cell_type": "code",
   "execution_count": null,
   "id": "c10ebca6-3c8c-425f-ba75-d688981246e1",
   "metadata": {},
   "outputs": [],
   "source": []
  },
  {
   "cell_type": "code",
   "execution_count": 100,
   "id": "44478d64-cf3f-46d4-a59d-6ac98635eb73",
   "metadata": {},
   "outputs": [
    {
     "data": {
      "text/plain": [
       "0.07386882998171847"
      ]
     },
     "execution_count": 100,
     "metadata": {},
     "output_type": "execute_result"
    }
   ],
   "source": [
    "# Доля пользователей с подпиской, сделавшие разовую подписку\n",
    "purchases_in_subs_part_control = (pays[(pays['Payment'] == 200) & (pays['uid'].isin(exp_payment_7d_control_subs))]['uid'].count()\n",
    "/ exp_payment_7d_control_id.count())\n",
    "purchases_in_subs_part_control"
   ]
  },
  {
   "cell_type": "code",
   "execution_count": 101,
   "id": "ce0f9f79-ea41-4edf-96c9-3db42c30de0c",
   "metadata": {},
   "outputs": [
    {
     "data": {
      "text/plain": [
       "0.18602924377427463"
      ]
     },
     "execution_count": 101,
     "metadata": {},
     "output_type": "execute_result"
    }
   ],
   "source": [
    "# Доля пользователей с подпиской, сделавшие разовую подписку\n",
    "purchases_in_subs_part_test = (pays[(pays['Payment'] == 200) & (pays['uid'].isin(exp_payment_7d_test_subs))]['uid'].count()\n",
    "/ exp_payment_7d_test_id.count())\n",
    "purchases_in_subs_part_test"
   ]
  },
  {
   "cell_type": "code",
   "execution_count": null,
   "id": "6a61839d-5d52-49f7-91c6-5114938b7f94",
   "metadata": {},
   "outputs": [],
   "source": []
  },
  {
   "cell_type": "code",
   "execution_count": 105,
   "id": "307cb997-f912-4248-9faf-2de6b97f04cd",
   "metadata": {},
   "outputs": [
    {
     "data": {
      "text/plain": [
       "0.2970178244972578"
      ]
     },
     "execution_count": 105,
     "metadata": {},
     "output_type": "execute_result"
    }
   ],
   "source": [
    "# Доля пользователей без подписки, сделавшие разовую подписку, без учета пользователей с подпиской\n",
    "purchases_in_notsubs_part_control = (pays[(pays['Payment'] == 200)\n",
    "                                      & (~pays['uid'].isin(exp_payment_7d_control_subs))\n",
    "                                      & (pays['uid'].isin(exp_payment_7d_control_id))]['uid'].count()\n",
    "/ exp_payment_7d_control_id.count())\n",
    "purchases_in_notsubs_part_control"
   ]
  },
  {
   "cell_type": "code",
   "execution_count": 106,
   "id": "4691eb80-308f-4c32-8c05-5851682e1e27",
   "metadata": {},
   "outputs": [
    {
     "data": {
      "text/plain": [
       "0.18574366004112405"
      ]
     },
     "execution_count": 106,
     "metadata": {},
     "output_type": "execute_result"
    }
   ],
   "source": [
    "# Доля пользователей без подписки, сделавшие разовую подписку, без учета пользователей с подпиской\n",
    "purchases_in_notsubs_part_test = (pays[(pays['Payment'] == 200)\n",
    "                                  & (~pays['uid'].isin(exp_payment_7d_test_subs))\n",
    "                                  & (pays['uid'].isin(exp_payment_7d_test_id))]['uid'].count()\n",
    "/ exp_payment_7d_test_id.count())\n",
    "purchases_in_notsubs_part_test"
   ]
  },
  {
   "cell_type": "code",
   "execution_count": null,
   "id": "34b9b94a-910b-4c5f-a82c-db602cf1bb5b",
   "metadata": {},
   "outputs": [],
   "source": []
  },
  {
   "cell_type": "code",
   "execution_count": 107,
   "id": "fecd6c07-af91-4277-9428-44cf01050426",
   "metadata": {},
   "outputs": [
    {
     "data": {
      "text/plain": [
       "0.37088665447897623"
      ]
     },
     "execution_count": 107,
     "metadata": {},
     "output_type": "execute_result"
    }
   ],
   "source": [
    "# Доля пользователей сделавшие разовую подписку\n",
    "purchases_part_control = purchases_in_subs_part_control + purchases_in_notsubs_part_control\n",
    "purchases_part_control"
   ]
  },
  {
   "cell_type": "code",
   "execution_count": 108,
   "id": "0ce6cf02-16df-40b3-84f2-79da3923e0c3",
   "metadata": {},
   "outputs": [
    {
     "data": {
      "text/plain": [
       "0.3717729038153987"
      ]
     },
     "execution_count": 108,
     "metadata": {},
     "output_type": "execute_result"
    }
   ],
   "source": [
    "# Доля пользователей сделавшие разовую подписку\n",
    "purchases_part_test = purchases_in_subs_part_test + purchases_in_notsubs_part_test\n",
    "purchases_part_test"
   ]
  },
  {
   "cell_type": "code",
   "execution_count": null,
   "id": "c79cc039-e0d8-485f-837b-ecbae34f5f2e",
   "metadata": {},
   "outputs": [],
   "source": []
  },
  {
   "cell_type": "code",
   "execution_count": 116,
   "id": "70819585-367b-4d56-bf8d-9406b00fe8eb",
   "metadata": {},
   "outputs": [
    {
     "data": {
      "text/plain": [
       "153.51919561243145"
      ]
     },
     "execution_count": 116,
     "metadata": {},
     "output_type": "execute_result"
    }
   ],
   "source": [
    "# Рассчитаем ARPU control\n",
    "arpu_control = pays[pays['uid'].isin(exp_payment_7d_control_id)]['Payment'].sum() / exp_payment_7d_control_id.count()\n",
    "arpu_control"
   ]
  },
  {
   "cell_type": "code",
   "execution_count": 117,
   "id": "57b5a9c4-0550-44d3-af85-4978a1aa8650",
   "metadata": {},
   "outputs": [
    {
     "data": {
      "text/plain": [
       "154.35458076307972"
      ]
     },
     "execution_count": 117,
     "metadata": {},
     "output_type": "execute_result"
    }
   ],
   "source": [
    "# Рассчитаем ARPU test\n",
    "arpu_test = pays[pays['uid'].isin(exp_payment_7d_test_id)]['Payment'].sum() / exp_payment_7d_test_id.count()\n",
    "arpu_test"
   ]
  },
  {
   "cell_type": "code",
   "execution_count": 125,
   "id": "b49e0f8a-f347-4667-a948-88c0bfb3bce2",
   "metadata": {},
   "outputs": [
    {
     "name": "stdout",
     "output_type": "stream",
     "text": [
      "ARPU увеличилось на 0.54%\n"
     ]
    }
   ],
   "source": [
    "print(f'ARPU увеличилось на {(100 * (arpu_test / arpu_control - 1)):.2f}%')"
   ]
  },
  {
   "cell_type": "code",
   "execution_count": 174,
   "id": "8243d458-1a11-41f9-82a0-ddbbd914b8df",
   "metadata": {},
   "outputs": [
    {
     "name": "stdout",
     "output_type": "stream",
     "text": [
      "Доля пользователей с подпиской увеличилась в 2.52\n"
     ]
    }
   ],
   "source": [
    "print(f'Доля пользователей с подпиской увеличилась в {(sub_part_test / sub_part_control):.2f}')"
   ]
  },
  {
   "cell_type": "code",
   "execution_count": 176,
   "id": "e3b345f4-63f5-4fb3-9354-ea095a5664f3",
   "metadata": {},
   "outputs": [
    {
     "name": "stdout",
     "output_type": "stream",
     "text": [
      "Доля пользователей с подпиской, сделавшие разовую подписку увеличилась в 2.52\n"
     ]
    }
   ],
   "source": [
    "print(f'Доля пользователей с подпиской, сделавшие разовую подписку увеличилась в {(purchases_in_subs_part_test / purchases_in_subs_part_control):.2f}')"
   ]
  },
  {
   "cell_type": "code",
   "execution_count": 184,
   "id": "60bb8127-0f52-497c-b6f4-b143b5c93d70",
   "metadata": {},
   "outputs": [
    {
     "name": "stdout",
     "output_type": "stream",
     "text": [
      "Доля пользователей без подписки, сделавшие разовую подписку уменьшилась в 62.54\n"
     ]
    }
   ],
   "source": [
    "print(f'Доля пользователей без подписки, сделавшие разовую подписку уменьшилась в {(purchases_in_notsubs_part_test / purchases_in_notsubs_part_control)*100:.2f}')"
   ]
  },
  {
   "cell_type": "code",
   "execution_count": 196,
   "id": "35883594-8812-4d6c-aa9a-66031e64b0eb",
   "metadata": {},
   "outputs": [
    {
     "name": "stdout",
     "output_type": "stream",
     "text": [
      "CR в разовую покупку увеличился на 0.09%\n"
     ]
    }
   ],
   "source": [
    "print(f'CR в разовую покупку увеличился на {(round((purchases_part_test - purchases_part_control) * 100, 2))}%')"
   ]
  },
  {
   "cell_type": "markdown",
   "id": "f59c9ebc-8b03-4c74-bd0e-aa7c48bcc9ce",
   "metadata": {},
   "source": [
    "## Посчитаем статистику"
   ]
  },
  {
   "cell_type": "code",
   "execution_count": 146,
   "id": "b2ade756-22e5-48ec-92a7-1ee8fdf1f041",
   "metadata": {},
   "outputs": [],
   "source": [
    "exp_payment_7d_pays = pays[pays['uid'].isin(exp_payment_7d['uid'])].groupby('uid', as_index=False)['Payment'].sum()\n",
    "exp_payment_7d_pays = exp_payment_7d.merge(exp_payment_7d_pays, how='left', on='uid').fillna(0)"
   ]
  },
  {
   "cell_type": "code",
   "execution_count": 279,
   "id": "2de3701f-6f2b-4af6-b291-47b353968e5c",
   "metadata": {},
   "outputs": [],
   "source": [
    "# ARPU с доверительным интервалом в каждой группе"
   ]
  },
  {
   "cell_type": "code",
   "execution_count": 283,
   "id": "9c5876fe-f91a-4d4a-8c29-85d3e8fc0842",
   "metadata": {},
   "outputs": [
    {
     "data": {
      "text/plain": [
       "153.51919561243145"
      ]
     },
     "execution_count": 283,
     "metadata": {},
     "output_type": "execute_result"
    }
   ],
   "source": [
    "# КОНТРОЛЬ\n",
    "arpu_control = exp_payment_7d_pays[exp_payment_7d_pays['Group'] == 'Old']['Payment'].mean()\n",
    "arpu_control"
   ]
  },
  {
   "cell_type": "code",
   "execution_count": 284,
   "id": "678d7c45-997c-43b7-8149-eaa7798fe6f3",
   "metadata": {},
   "outputs": [],
   "source": [
    "se_arpu_control = stats.sem(exp_payment_7d_pays[exp_payment_7d_pays['Group'] == 'Old']['Payment'])"
   ]
  },
  {
   "cell_type": "code",
   "execution_count": 285,
   "id": "9c988a6a-a754-4586-85e1-db645801cf48",
   "metadata": {},
   "outputs": [
    {
     "data": {
      "text/plain": [
       "(150.754448092468, 156.28394313239488)"
      ]
     },
     "execution_count": 285,
     "metadata": {},
     "output_type": "execute_result"
    }
   ],
   "source": [
    "stats.t.interval(0.95,\n",
    "                 df=sum(exp_payment_7d['Group'] == 'Old') - 1,\n",
    "                 scale=se_arpu_control,\n",
    "                 loc=arpu_control)"
   ]
  },
  {
   "cell_type": "code",
   "execution_count": 286,
   "id": "7237187f-aa89-42fe-9788-ab6fc8eb47ed",
   "metadata": {},
   "outputs": [
    {
     "data": {
      "text/plain": [
       "154.35458076307972"
      ]
     },
     "execution_count": 286,
     "metadata": {},
     "output_type": "execute_result"
    }
   ],
   "source": [
    "# ТЕСТ\n",
    "arpu_test = exp_payment_7d_pays[exp_payment_7d_pays['Group'] == 'New']['Payment'].mean()\n",
    "arpu_test"
   ]
  },
  {
   "cell_type": "code",
   "execution_count": 287,
   "id": "dc53c270-71d2-4639-9cb3-0fed6f992ee8",
   "metadata": {},
   "outputs": [],
   "source": [
    "se_arpu_test = stats.sem(exp_payment_7d_pays[exp_payment_7d_pays['Group'] == 'New']['Payment'])"
   ]
  },
  {
   "cell_type": "code",
   "execution_count": 296,
   "id": "861e34a8-1a8a-45e4-8ab3-9cb9e4d03d55",
   "metadata": {},
   "outputs": [
    {
     "data": {
      "text/plain": [
       "(151.6599681019078, 155.3784231229551)"
      ]
     },
     "execution_count": 296,
     "metadata": {},
     "output_type": "execute_result"
    }
   ],
   "source": [
    "stats.t.interval(0.95,\n",
    "                 df=sum(exp_payment_7d['Group'] == 'New') - 1,\n",
    "                 scale=se_arpu_test,\n",
    "                 loc=arpu_control)"
   ]
  },
  {
   "cell_type": "code",
   "execution_count": 290,
   "id": "7f0e7e40-a3d6-4883-88f5-dfe6607d8a15",
   "metadata": {},
   "outputs": [],
   "source": [
    "# CR в разовую покупку с доверительным интервалом в каждой группе"
   ]
  },
  {
   "cell_type": "code",
   "execution_count": 291,
   "id": "0d41ad16-ae36-4523-a587-93e17f5f6d6e",
   "metadata": {},
   "outputs": [],
   "source": [
    "# КОНТРОЛЬ\n",
    "se_cr_control = np.sqrt(purchases_part_control * (1 - purchases_part_control) / sum(exp_payment_7d['Group'] == 'Old'))"
   ]
  },
  {
   "cell_type": "code",
   "execution_count": 292,
   "id": "51fa106e-1ee3-4061-b848-33c02a718852",
   "metadata": {},
   "outputs": [
    {
     "data": {
      "text/plain": [
       "(0.36373025584330065, 0.3780430531146518)"
      ]
     },
     "execution_count": 292,
     "metadata": {},
     "output_type": "execute_result"
    }
   ],
   "source": [
    "ci_cr_control =  stats.t.interval(0.95,\n",
    "                                  df=sum(exp_payment_7d['Group'] == 'Old') - 1,\n",
    "                                  scale=se_cr_control,\n",
    "                                  loc=purchases_part_control)\n",
    "ci_cr_control"
   ]
  },
  {
   "cell_type": "code",
   "execution_count": 275,
   "id": "47f9b833-afa5-4dcb-8b18-04d855d71059",
   "metadata": {},
   "outputs": [
    {
     "data": {
      "text/plain": [
       "0.7156398635675576"
      ]
     },
     "execution_count": 275,
     "metadata": {},
     "output_type": "execute_result"
    }
   ],
   "source": [
    "(purchases_part_control - ci_cr_control[0]) * 100"
   ]
  },
  {
   "cell_type": "code",
   "execution_count": 293,
   "id": "1b9cb924-dbd5-46cc-a4c7-1121f79999a4",
   "metadata": {},
   "outputs": [],
   "source": [
    "# ТЕСТ\n",
    "se_cr_test = np.sqrt(purchases_part_test * (1 - purchases_part_test) / sum(exp_payment_7d['Group'] == 'New'))"
   ]
  },
  {
   "cell_type": "code",
   "execution_count": 294,
   "id": "df78521c-f581-45a2-8cbe-9fa3d45dc73d",
   "metadata": {},
   "outputs": [
    {
     "data": {
      "text/plain": [
       "(0.3646138265882914, 0.37893198104250597)"
      ]
     },
     "execution_count": 294,
     "metadata": {},
     "output_type": "execute_result"
    }
   ],
   "source": [
    "ci_cr_test = stats.t.interval(0.95,\n",
    "                              df=sum(exp_payment_7d['Group'] == 'New') - 1,\n",
    "                              scale=se_cr_test,\n",
    "                              loc=purchases_part_test)\n",
    "ci_cr_test"
   ]
  },
  {
   "cell_type": "code",
   "execution_count": 295,
   "id": "fbb5ce61-7c4c-4cd2-b8b7-609ce9ded10d",
   "metadata": {},
   "outputs": [
    {
     "data": {
      "text/plain": [
       "0.7159077227107291"
      ]
     },
     "execution_count": 295,
     "metadata": {},
     "output_type": "execute_result"
    }
   ],
   "source": [
    "(purchases_part_test - ci_cr_test[0]) * 100"
   ]
  },
  {
   "cell_type": "markdown",
   "id": "0da34148-c413-456a-82ee-3c0648c54a2a",
   "metadata": {},
   "source": [
    "### ARPU"
   ]
  },
  {
   "cell_type": "code",
   "execution_count": 153,
   "id": "8055d930-438b-4be1-8f18-cfc430c81f67",
   "metadata": {},
   "outputs": [
    {
     "name": "stdout",
     "output_type": "stream",
     "text": [
      "T-statistic: -0.49148608037619507, P-value: 0.6231\n"
     ]
    }
   ],
   "source": [
    "t_stat, p_value = ttest_ind(exp_payment_7d_pays[exp_payment_7d_pays['Group'] == 'Old']['Payment'],\n",
    "                            exp_payment_7d_pays[exp_payment_7d_pays['Group'] == 'New']['Payment'])\n",
    "print(f\"T-statistic: {t_stat}, P-value: {p_value:.4f}\")"
   ]
  },
  {
   "cell_type": "markdown",
   "id": "c400bdce-ed35-490d-a090-327a9e6f98b1",
   "metadata": {},
   "source": [
    "### CR в разовую покупку"
   ]
  },
  {
   "cell_type": "code",
   "execution_count": 155,
   "id": "23a4d29b-7ee5-49a9-a871-b0f5692b0533",
   "metadata": {},
   "outputs": [
    {
     "name": "stdout",
     "output_type": "stream",
     "text": [
      "Chi-statistic: 0.025775990629922856, P-value: 0.4454\n"
     ]
    }
   ],
   "source": [
    "table = [\n",
    "    [purchases_part_control * len(exp_payment_7d_control_id),\n",
    "     (1 - purchases_part_control) * len(exp_payment_7d_control_id)],\n",
    "    [purchases_part_test * len(exp_payment_7d_test_id),\n",
    "     (1 - purchases_part_test) * len(exp_payment_7d_test_id)]\n",
    "]\n",
    "\n",
    "chi2, p_value, dof, expected = chi2_contingency(table)\n",
    "\n",
    "print(f\"Chi-statistic: {chi2}, P-value: {p_val:.4f}\")"
   ]
  }
 ],
 "metadata": {
  "kernelspec": {
   "display_name": "Python 3 (ipykernel)",
   "language": "python",
   "name": "python3"
  },
  "language_info": {
   "codemirror_mode": {
    "name": "ipython",
    "version": 3
   },
   "file_extension": ".py",
   "mimetype": "text/x-python",
   "name": "python",
   "nbconvert_exporter": "python",
   "pygments_lexer": "ipython3",
   "version": "3.11.4"
  }
 },
 "nbformat": 4,
 "nbformat_minor": 5
}
